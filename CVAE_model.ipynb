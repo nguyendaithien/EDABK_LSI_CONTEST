{
  "cells": [
    {
      "cell_type": "markdown",
      "metadata": {
        "id": "ZfESBIaGfgqB"
      },
      "source": [
        "# Implementation of Convolutional Variational AutoEncoder (CVAE)\n",
        "    \n",
        "     Author: Luu-Nguyen Van\n",
        "     \n",
        "     Email:  luu@gmail.com"
      ]
    },
    {
      "cell_type": "markdown",
      "metadata": {
        "id": "k73RRiAIksP6"
      },
      "source": [
        "# Prequiste"
      ]
    },
    {
      "cell_type": "code",
      "execution_count": 2,
      "metadata": {
        "id": "KPyMpYFdfgqE"
      },
      "outputs": [],
      "source": [
        "import torch\n",
        "import torch.nn as nn\n",
        "import torch.nn.functional as F\n",
        "import torchvision\n",
        "\n",
        "import numpy as np\n",
        "\n",
        "from tqdm import tqdm\n",
        "from torchvision.utils import save_image, make_grid\n",
        "from torch.distributions.normal import Normal"
      ]
    },
    {
      "cell_type": "markdown",
      "metadata": {
        "id": "Sqpiaztmq5bi"
      },
      "source": [
        "# Model Hyperparameters"
      ]
    },
    {
      "cell_type": "code",
      "execution_count": 3,
      "metadata": {
        "id": "DXvnf7WJfgqF"
      },
      "outputs": [],
      "source": [
        "dataset_path = '~/datasets'\n",
        "\n",
        "cuda = torch.cuda.is_available()\n",
        "DEVICE = torch.device(\"cuda\" if cuda else \"cpu\")\n",
        "\n",
        "LR = 1e-3\n",
        "IMAGE_SIZE = 32\n",
        "BATCH_SIZE = 64\n",
        "EMBEDDING_DIM = 2\n",
        "EPOCHS = 100\n",
        "SHAPE_BEFORE_FLATTENING = (128, IMAGE_SIZE // 8, IMAGE_SIZE // 8)"
      ]
    },
    {
      "cell_type": "markdown",
      "metadata": {
        "id": "LjusUs9TfgqF"
      },
      "source": [
        "###    Step 1. Load (or download) Dataset"
      ]
    },
    {
      "cell_type": "code",
      "execution_count": 4,
      "metadata": {
        "id": "L5jBuApQfgqG",
        "colab": {
          "base_uri": "https://localhost:8080/"
        },
        "outputId": "1ba1cefd-6103-4dd5-c141-6b3f7f858991"
      },
      "outputs": [
        {
          "output_type": "stream",
          "name": "stdout",
          "text": [
            "Downloading http://yann.lecun.com/exdb/mnist/train-images-idx3-ubyte.gz\n",
            "Failed to download (trying next):\n",
            "<urlopen error [Errno 111] Connection refused>\n",
            "\n",
            "Downloading https://ossci-datasets.s3.amazonaws.com/mnist/train-images-idx3-ubyte.gz\n",
            "Downloading https://ossci-datasets.s3.amazonaws.com/mnist/train-images-idx3-ubyte.gz to /root/datasets/MNIST/raw/train-images-idx3-ubyte.gz\n"
          ]
        },
        {
          "output_type": "stream",
          "name": "stderr",
          "text": [
            "100%|██████████| 9.91M/9.91M [00:00<00:00, 128MB/s]\n"
          ]
        },
        {
          "output_type": "stream",
          "name": "stdout",
          "text": [
            "Extracting /root/datasets/MNIST/raw/train-images-idx3-ubyte.gz to /root/datasets/MNIST/raw\n",
            "\n",
            "Downloading http://yann.lecun.com/exdb/mnist/train-labels-idx1-ubyte.gz\n",
            "Failed to download (trying next):\n",
            "<urlopen error [Errno 111] Connection refused>\n",
            "\n",
            "Downloading https://ossci-datasets.s3.amazonaws.com/mnist/train-labels-idx1-ubyte.gz\n",
            "Downloading https://ossci-datasets.s3.amazonaws.com/mnist/train-labels-idx1-ubyte.gz to /root/datasets/MNIST/raw/train-labels-idx1-ubyte.gz\n"
          ]
        },
        {
          "output_type": "stream",
          "name": "stderr",
          "text": [
            "100%|██████████| 28.9k/28.9k [00:00<00:00, 33.9MB/s]\n"
          ]
        },
        {
          "output_type": "stream",
          "name": "stdout",
          "text": [
            "Extracting /root/datasets/MNIST/raw/train-labels-idx1-ubyte.gz to /root/datasets/MNIST/raw\n",
            "\n",
            "Downloading http://yann.lecun.com/exdb/mnist/t10k-images-idx3-ubyte.gz\n",
            "Failed to download (trying next):\n",
            "<urlopen error [Errno 111] Connection refused>\n",
            "\n",
            "Downloading https://ossci-datasets.s3.amazonaws.com/mnist/t10k-images-idx3-ubyte.gz\n",
            "Downloading https://ossci-datasets.s3.amazonaws.com/mnist/t10k-images-idx3-ubyte.gz to /root/datasets/MNIST/raw/t10k-images-idx3-ubyte.gz\n"
          ]
        },
        {
          "output_type": "stream",
          "name": "stderr",
          "text": [
            "100%|██████████| 1.65M/1.65M [00:00<00:00, 45.0MB/s]\n"
          ]
        },
        {
          "output_type": "stream",
          "name": "stdout",
          "text": [
            "Extracting /root/datasets/MNIST/raw/t10k-images-idx3-ubyte.gz to /root/datasets/MNIST/raw\n",
            "\n",
            "Downloading http://yann.lecun.com/exdb/mnist/t10k-labels-idx1-ubyte.gz\n",
            "Failed to download (trying next):\n",
            "<urlopen error [Errno 111] Connection refused>\n",
            "\n",
            "Downloading https://ossci-datasets.s3.amazonaws.com/mnist/t10k-labels-idx1-ubyte.gz\n",
            "Downloading https://ossci-datasets.s3.amazonaws.com/mnist/t10k-labels-idx1-ubyte.gz to /root/datasets/MNIST/raw/t10k-labels-idx1-ubyte.gz\n"
          ]
        },
        {
          "output_type": "stream",
          "name": "stderr",
          "text": [
            "100%|██████████| 4.54k/4.54k [00:00<00:00, 2.64MB/s]\n"
          ]
        },
        {
          "output_type": "stream",
          "name": "stdout",
          "text": [
            "Extracting /root/datasets/MNIST/raw/t10k-labels-idx1-ubyte.gz to /root/datasets/MNIST/raw\n",
            "\n"
          ]
        }
      ],
      "source": [
        "from torchvision.datasets import MNIST\n",
        "import torchvision.transforms as transforms\n",
        "from torch.utils.data import DataLoader\n",
        "\n",
        "\n",
        "mnist_transform = transforms.Compose([\n",
        "        torchvision.transforms.Resize(32), transforms.ToTensor(),\n",
        "])\n",
        "\n",
        "kwargs = {'num_workers': 1, 'pin_memory': True}\n",
        "\n",
        "train_dataset = MNIST(dataset_path, transform=mnist_transform, train=True, download=True)\n",
        "test_dataset  = MNIST(dataset_path, transform=mnist_transform, train=False, download=True)\n",
        "\n",
        "train_loader = DataLoader(dataset=train_dataset, batch_size=BATCH_SIZE, shuffle=True, **kwargs)\n",
        "test_loader  = DataLoader(dataset=test_dataset,  batch_size=BATCH_SIZE, shuffle=True, **kwargs)"
      ]
    },
    {
      "cell_type": "markdown",
      "metadata": {
        "id": "bUNnm0CJfgqG"
      },
      "source": [
        "### Step 2. Define model: Convolutional Variational AutoEncoder (CVAE)"
      ]
    },
    {
      "cell_type": "markdown",
      "metadata": {
        "id": "i90zk_lnhtVi"
      },
      "source": [
        "**2.1. Define a class for sampling**"
      ]
    },
    {
      "cell_type": "code",
      "execution_count": 5,
      "metadata": {
        "id": "LM1t7PMFhsi5"
      },
      "outputs": [],
      "source": [
        "# This class will be used in the encoder for sampling in the latent space\n",
        "class Sampling(nn.Module):\n",
        "    def forward(self, z_mean, z_log_var):\n",
        "        # get the shape of the tensor for the mean and log variance\n",
        "        batch, dim = z_mean.shape\n",
        "        # generate a normal random tensor (epsilon) with the same shape as z_mean\n",
        "        # this tensor will be used for reparameterization trick\n",
        "        epsilon = Normal(0, 1).sample((batch, dim)).to(z_mean.device)\n",
        "        # apply the reparameterization trick to generate the samples in the\n",
        "        # latent space\n",
        "        return z_mean + torch.exp(0.5 * z_log_var) * epsilon"
      ]
    },
    {
      "cell_type": "markdown",
      "metadata": {
        "id": "7nZMH53_iCSF"
      },
      "source": [
        "**2.2. Implement Encoder**"
      ]
    },
    {
      "cell_type": "code",
      "execution_count": 6,
      "metadata": {
        "id": "e1kl5Q6BfgqG"
      },
      "outputs": [],
      "source": [
        "class Encoder(nn.Module):\n",
        "    def __init__(self, image_size, embedding_dim):\n",
        "        super(Encoder, self).__init__()\n",
        "        # define the convolutional layers for downsampling and feature extraction\n",
        "        self.conv1 = nn.Conv2d(1, 32, 3, stride=2, padding=1)\n",
        "        self.conv2 = nn.Conv2d(32, 64, 3, stride=2, padding=1)\n",
        "        self.conv3 = nn.Conv2d(64, 128, 3, stride=2, padding=1)\n",
        "        # define a flatten layer to flatten the tensor before feeding it into the fully connected layer\n",
        "        self.flatten = nn.Flatten()\n",
        "        # define fully connected layers to transform the tensor into the desired embedding dimensions\n",
        "        self.fc_mean = nn.Linear(128 * (image_size // 8) * (image_size // 8), embedding_dim)\n",
        "        self.fc_log_var = nn.Linear(128 * (image_size // 8) * (image_size // 8), embedding_dim)\n",
        "        # initialize the sampling layer\n",
        "        self.sampling = Sampling()\n",
        "    def forward(self, x):\n",
        "        # apply convolutional layers with relu activation function\n",
        "        x = F.relu(self.conv1(x))\n",
        "        x = F.relu(self.conv2(x))\n",
        "        x = F.relu(self.conv3(x))\n",
        "        # flatten the tensor\n",
        "        x = self.flatten(x)\n",
        "        # get the mean and log variance of the latent space distribution\n",
        "        z_mean = self.fc_mean(x)\n",
        "        z_log_var = self.fc_log_var(x)\n",
        "        # sample a latent vector using the reparameterization trick\n",
        "        z = self.sampling(z_mean, z_log_var)\n",
        "        return z_mean, z_log_var, z"
      ]
    },
    {
      "cell_type": "markdown",
      "metadata": {
        "id": "5a6fguSkiQHv"
      },
      "source": [
        "**2.3. Implement Decoder**"
      ]
    },
    {
      "cell_type": "code",
      "execution_count": 7,
      "metadata": {
        "id": "oyVb4qZjfgqH"
      },
      "outputs": [],
      "source": [
        "class Decoder(nn.Module):\n",
        "    def __init__(self, embedding_dim, shape_before_flattening):\n",
        "        super(Decoder, self).__init__()\n",
        "        # define a fully connected layer to transform the latent vector back to the shape before flattening\n",
        "        self.fc = nn.Linear(embedding_dim, shape_before_flattening[0] * shape_before_flattening[1] * shape_before_flattening[2])\n",
        "        # define a reshape function to reshape the tensor back to its original shape\n",
        "        self.reshape = lambda x: x.view(-1, *shape_before_flattening)\n",
        "        # define the transposed convolutional layers for the decoder to upsample and generate the reconstructed image\n",
        "        self.deconv1 = nn.ConvTranspose2d(128, 64, 3, stride=2, padding=1, output_padding=1)\n",
        "        self.deconv2 = nn.ConvTranspose2d(64, 32, 3, stride=2, padding=1, output_padding=1)\n",
        "        self.deconv3 = nn.ConvTranspose2d(32, 1, 3, stride=2, padding=1, output_padding=1)\n",
        "    def forward(self, x):\n",
        "        # pass the latent vector through the fully connected layer\n",
        "        x = self.fc(x)\n",
        "        # reshape the tensor\n",
        "        x = self.reshape(x)\n",
        "        # apply transposed convolutional layers with relu activation function\n",
        "        x = F.relu(self.deconv1(x))\n",
        "        x = F.relu(self.deconv2(x))\n",
        "        # apply the final transposed convolutional layer with a sigmoid activation to generate the final output\n",
        "        x = torch.sigmoid(self.deconv3(x))\n",
        "        return x"
      ]
    },
    {
      "cell_type": "markdown",
      "metadata": {
        "id": "W01ZGdQOicls"
      },
      "source": [
        "**2.3. Implement model**"
      ]
    },
    {
      "cell_type": "code",
      "execution_count": 8,
      "metadata": {
        "id": "8HS4LlVpfgqH"
      },
      "outputs": [],
      "source": [
        "class Model(nn.Module):\n",
        "    def __init__(self, encoder, decoder):\n",
        "        super(Model, self).__init__()\n",
        "        # initialize the encoder and decoder\n",
        "        self.encoder = encoder\n",
        "        self.decoder = decoder\n",
        "    def forward(self, x):\n",
        "        # pass the input through the encoder to get the latent vector\n",
        "        z_mean, z_log_var, z = self.encoder(x)\n",
        "        # pass the latent vector through the decoder to get the reconstructed image\n",
        "        reconstruction = self.decoder(z)\n",
        "        # return the mean, log variance and the reconstructed image\n",
        "        return z_mean, z_log_var, reconstruction"
      ]
    },
    {
      "cell_type": "code",
      "execution_count": 9,
      "metadata": {
        "colab": {
          "base_uri": "https://localhost:8080/"
        },
        "id": "RnneXLfhfgqI",
        "outputId": "65fbd130-d132-4dec-a185-280af822dbe9"
      },
      "outputs": [
        {
          "output_type": "stream",
          "name": "stdout",
          "text": [
            "Model(\n",
            "  (encoder): Encoder(\n",
            "    (conv1): Conv2d(1, 32, kernel_size=(3, 3), stride=(2, 2), padding=(1, 1))\n",
            "    (conv2): Conv2d(32, 64, kernel_size=(3, 3), stride=(2, 2), padding=(1, 1))\n",
            "    (conv3): Conv2d(64, 128, kernel_size=(3, 3), stride=(2, 2), padding=(1, 1))\n",
            "    (flatten): Flatten(start_dim=1, end_dim=-1)\n",
            "    (fc_mean): Linear(in_features=2048, out_features=2, bias=True)\n",
            "    (fc_log_var): Linear(in_features=2048, out_features=2, bias=True)\n",
            "    (sampling): Sampling()\n",
            "  )\n",
            "  (decoder): Decoder(\n",
            "    (fc): Linear(in_features=2, out_features=2048, bias=True)\n",
            "    (deconv1): ConvTranspose2d(128, 64, kernel_size=(3, 3), stride=(2, 2), padding=(1, 1), output_padding=(1, 1))\n",
            "    (deconv2): ConvTranspose2d(64, 32, kernel_size=(3, 3), stride=(2, 2), padding=(1, 1), output_padding=(1, 1))\n",
            "    (deconv3): ConvTranspose2d(32, 1, kernel_size=(3, 3), stride=(2, 2), padding=(1, 1), output_padding=(1, 1))\n",
            "  )\n",
            ")\n",
            "----------------------------------------------------------------\n",
            "        Layer (type)               Output Shape         Param #\n",
            "================================================================\n",
            "            Conv2d-1           [-1, 32, 16, 16]             320\n",
            "            Conv2d-2             [-1, 64, 8, 8]          18,496\n",
            "            Conv2d-3            [-1, 128, 4, 4]          73,856\n",
            "           Flatten-4                 [-1, 2048]               0\n",
            "            Linear-5                    [-1, 2]           4,098\n",
            "            Linear-6                    [-1, 2]           4,098\n",
            "          Sampling-7                    [-1, 2]               0\n",
            "           Encoder-8  [[-1, 2], [-1, 2], [-1, 2]]               0\n",
            "            Linear-9                 [-1, 2048]           6,144\n",
            "  ConvTranspose2d-10             [-1, 64, 8, 8]          73,792\n",
            "  ConvTranspose2d-11           [-1, 32, 16, 16]          18,464\n",
            "  ConvTranspose2d-12            [-1, 1, 32, 32]             289\n",
            "          Decoder-13            [-1, 1, 32, 32]               0\n",
            "================================================================\n",
            "Total params: 199,557\n",
            "Trainable params: 199,557\n",
            "Non-trainable params: 0\n",
            "----------------------------------------------------------------\n",
            "Input size (MB): 0.00\n",
            "Forward/backward pass size (MB): 0.25\n",
            "Params size (MB): 0.76\n",
            "Estimated Total Size (MB): 1.02\n",
            "----------------------------------------------------------------\n"
          ]
        }
      ],
      "source": [
        "# Instantiate the encoder and decoder models\n",
        "encoder = Encoder(IMAGE_SIZE, EMBEDDING_DIM)\n",
        "decoder = Decoder(EMBEDDING_DIM, SHAPE_BEFORE_FLATTENING)\n",
        "\n",
        "# Pass the encoder and decoder to VAE class\n",
        "model = Model(encoder=encoder, decoder=decoder).to(DEVICE)\n",
        "print(model)\n",
        "from torchsummary import summary\n",
        "summary(model, (1, 32, 32))"
      ]
    },
    {
      "cell_type": "markdown",
      "metadata": {
        "id": "cTpfk2K6fgqI"
      },
      "source": [
        "### Step 3. Define Loss function (reprod. loss) and optimizer"
      ]
    },
    {
      "cell_type": "code",
      "execution_count": 10,
      "metadata": {
        "id": "JfMP-YSWfgqI"
      },
      "outputs": [],
      "source": [
        "from torch.optim import Adam\n",
        "\n",
        "BCE_loss = nn.BCELoss()\n",
        "\n",
        "def loss_function(x, x_hat, mean, log_var):\n",
        "    reproduction_loss = nn.functional.binary_cross_entropy(x_hat, x, reduction='sum')\n",
        "    KLD      = - 0.5 * torch.sum(1 + log_var - mean.pow(2) - log_var.exp())\n",
        "\n",
        "    return reproduction_loss + KLD\n",
        "\n",
        "\n",
        "optimizer = Adam(model.parameters(), lr=LR)"
      ]
    },
    {
      "cell_type": "markdown",
      "metadata": {
        "id": "WTJf9iNufgqJ"
      },
      "source": [
        "### Step 4. Train Convolutional Variational AutoEncoder (CVAE)"
      ]
    },
    {
      "cell_type": "code",
      "execution_count": 11,
      "metadata": {
        "colab": {
          "base_uri": "https://localhost:8080/",
          "height": 781
        },
        "id": "JOCa0bIkfgqJ",
        "scrolled": false,
        "outputId": "9ba2392e-880c-4459-9da4-2695830e43d4"
      },
      "outputs": [
        {
          "output_type": "stream",
          "name": "stdout",
          "text": [
            "Start training VAE...\n",
            "\tEpoch 1 complete! \tAverage Loss:  248.51301317408348\n",
            "\tEpoch 2 complete! \tAverage Loss:  218.10322022819722\n",
            "\tEpoch 3 complete! \tAverage Loss:  212.6944215463091\n",
            "\tEpoch 4 complete! \tAverage Loss:  210.05263604781925\n",
            "\tEpoch 5 complete! \tAverage Loss:  208.25001946024858\n",
            "\tEpoch 6 complete! \tAverage Loss:  206.87699919449227\n",
            "\tEpoch 7 complete! \tAverage Loss:  205.85392396452588\n",
            "\tEpoch 8 complete! \tAverage Loss:  205.01914326638268\n",
            "\tEpoch 9 complete! \tAverage Loss:  204.385221980043\n",
            "\tEpoch 10 complete! \tAverage Loss:  203.75346077315453\n",
            "\tEpoch 11 complete! \tAverage Loss:  203.20021794012797\n",
            "\tEpoch 12 complete! \tAverage Loss:  202.7216438203891\n",
            "\tEpoch 13 complete! \tAverage Loss:  202.32507131244736\n",
            "\tEpoch 14 complete! \tAverage Loss:  201.9035426153063\n",
            "\tEpoch 15 complete! \tAverage Loss:  201.57391579708397\n",
            "\tEpoch 16 complete! \tAverage Loss:  201.1577654485387\n",
            "\tEpoch 17 complete! \tAverage Loss:  200.84707200285465\n",
            "\tEpoch 18 complete! \tAverage Loss:  200.5908624980849\n",
            "\tEpoch 19 complete! \tAverage Loss:  200.40405915055737\n",
            "\tEpoch 20 complete! \tAverage Loss:  200.02977984742904\n",
            "\tEpoch 21 complete! \tAverage Loss:  199.86637058481972\n"
          ]
        },
        {
          "output_type": "error",
          "ename": "KeyboardInterrupt",
          "evalue": "",
          "traceback": [
            "\u001b[0;31m---------------------------------------------------------------------------\u001b[0m",
            "\u001b[0;31mKeyboardInterrupt\u001b[0m                         Traceback (most recent call last)",
            "\u001b[0;32m<ipython-input-11-bc6313b05ebe>\u001b[0m in \u001b[0;36m<cell line: 0>\u001b[0;34m()\u001b[0m\n\u001b[1;32m     21\u001b[0m             \u001b[0mtorch\u001b[0m\u001b[0;34m.\u001b[0m\u001b[0msave\u001b[0m\u001b[0;34m(\u001b[0m\u001b[0mmodel\u001b[0m\u001b[0;34m.\u001b[0m\u001b[0mstate_dict\u001b[0m\u001b[0;34m(\u001b[0m\u001b[0;34m)\u001b[0m\u001b[0;34m,\u001b[0m \u001b[0;34m'model_weights.pt'\u001b[0m\u001b[0;34m)\u001b[0m\u001b[0;34m\u001b[0m\u001b[0;34m\u001b[0m\u001b[0m\n\u001b[1;32m     22\u001b[0m \u001b[0;34m\u001b[0m\u001b[0m\n\u001b[0;32m---> 23\u001b[0;31m         \u001b[0mloss\u001b[0m\u001b[0;34m.\u001b[0m\u001b[0mbackward\u001b[0m\u001b[0;34m(\u001b[0m\u001b[0;34m)\u001b[0m\u001b[0;34m\u001b[0m\u001b[0;34m\u001b[0m\u001b[0m\n\u001b[0m\u001b[1;32m     24\u001b[0m         \u001b[0moptimizer\u001b[0m\u001b[0;34m.\u001b[0m\u001b[0mstep\u001b[0m\u001b[0;34m(\u001b[0m\u001b[0;34m)\u001b[0m\u001b[0;34m\u001b[0m\u001b[0;34m\u001b[0m\u001b[0m\n\u001b[1;32m     25\u001b[0m \u001b[0;34m\u001b[0m\u001b[0m\n",
            "\u001b[0;32m/usr/local/lib/python3.11/dist-packages/torch/_tensor.py\u001b[0m in \u001b[0;36mbackward\u001b[0;34m(self, gradient, retain_graph, create_graph, inputs)\u001b[0m\n\u001b[1;32m    579\u001b[0m                 \u001b[0minputs\u001b[0m\u001b[0;34m=\u001b[0m\u001b[0minputs\u001b[0m\u001b[0;34m,\u001b[0m\u001b[0;34m\u001b[0m\u001b[0;34m\u001b[0m\u001b[0m\n\u001b[1;32m    580\u001b[0m             )\n\u001b[0;32m--> 581\u001b[0;31m         torch.autograd.backward(\n\u001b[0m\u001b[1;32m    582\u001b[0m             \u001b[0mself\u001b[0m\u001b[0;34m,\u001b[0m \u001b[0mgradient\u001b[0m\u001b[0;34m,\u001b[0m \u001b[0mretain_graph\u001b[0m\u001b[0;34m,\u001b[0m \u001b[0mcreate_graph\u001b[0m\u001b[0;34m,\u001b[0m \u001b[0minputs\u001b[0m\u001b[0;34m=\u001b[0m\u001b[0minputs\u001b[0m\u001b[0;34m\u001b[0m\u001b[0;34m\u001b[0m\u001b[0m\n\u001b[1;32m    583\u001b[0m         )\n",
            "\u001b[0;32m/usr/local/lib/python3.11/dist-packages/torch/autograd/__init__.py\u001b[0m in \u001b[0;36mbackward\u001b[0;34m(tensors, grad_tensors, retain_graph, create_graph, grad_variables, inputs)\u001b[0m\n\u001b[1;32m    345\u001b[0m     \u001b[0;31m# some Python versions print out the first line of a multi-line function\u001b[0m\u001b[0;34m\u001b[0m\u001b[0;34m\u001b[0m\u001b[0m\n\u001b[1;32m    346\u001b[0m     \u001b[0;31m# calls in the traceback and some print out the last line\u001b[0m\u001b[0;34m\u001b[0m\u001b[0;34m\u001b[0m\u001b[0m\n\u001b[0;32m--> 347\u001b[0;31m     _engine_run_backward(\n\u001b[0m\u001b[1;32m    348\u001b[0m         \u001b[0mtensors\u001b[0m\u001b[0;34m,\u001b[0m\u001b[0;34m\u001b[0m\u001b[0;34m\u001b[0m\u001b[0m\n\u001b[1;32m    349\u001b[0m         \u001b[0mgrad_tensors_\u001b[0m\u001b[0;34m,\u001b[0m\u001b[0;34m\u001b[0m\u001b[0;34m\u001b[0m\u001b[0m\n",
            "\u001b[0;32m/usr/local/lib/python3.11/dist-packages/torch/autograd/graph.py\u001b[0m in \u001b[0;36m_engine_run_backward\u001b[0;34m(t_outputs, *args, **kwargs)\u001b[0m\n\u001b[1;32m    823\u001b[0m         \u001b[0munregister_hooks\u001b[0m \u001b[0;34m=\u001b[0m \u001b[0m_register_logging_hooks_on_whole_graph\u001b[0m\u001b[0;34m(\u001b[0m\u001b[0mt_outputs\u001b[0m\u001b[0;34m)\u001b[0m\u001b[0;34m\u001b[0m\u001b[0;34m\u001b[0m\u001b[0m\n\u001b[1;32m    824\u001b[0m     \u001b[0;32mtry\u001b[0m\u001b[0;34m:\u001b[0m\u001b[0;34m\u001b[0m\u001b[0;34m\u001b[0m\u001b[0m\n\u001b[0;32m--> 825\u001b[0;31m         return Variable._execution_engine.run_backward(  # Calls into the C++ engine to run the backward pass\n\u001b[0m\u001b[1;32m    826\u001b[0m             \u001b[0mt_outputs\u001b[0m\u001b[0;34m,\u001b[0m \u001b[0;34m*\u001b[0m\u001b[0margs\u001b[0m\u001b[0;34m,\u001b[0m \u001b[0;34m**\u001b[0m\u001b[0mkwargs\u001b[0m\u001b[0;34m\u001b[0m\u001b[0;34m\u001b[0m\u001b[0m\n\u001b[1;32m    827\u001b[0m         )  # Calls into the C++ engine to run the backward pass\n",
            "\u001b[0;31mKeyboardInterrupt\u001b[0m: "
          ]
        }
      ],
      "source": [
        "print(\"Start training VAE...\")\n",
        "# initialize the best validation loss as infinity\n",
        "best_loss = float(\"inf\")\n",
        "\n",
        "model.train()\n",
        "\n",
        "for epoch in range(EPOCHS):\n",
        "    overall_loss = 0\n",
        "    for batch_idx, (x, _) in enumerate(train_loader):\n",
        "        x = x.to(DEVICE)\n",
        "\n",
        "        optimizer.zero_grad()\n",
        "\n",
        "        mean, log_var, x_hat = model(x)\n",
        "        loss = loss_function(x, x_hat, mean, log_var)\n",
        "\n",
        "        overall_loss += loss.item()\n",
        "        # save best vae model weights based on validation loss\n",
        "        if overall_loss < best_loss:\n",
        "            best_loss = overall_loss\n",
        "            torch.save(model.state_dict(), 'model_weights.pt')\n",
        "\n",
        "        loss.backward()\n",
        "        optimizer.step()\n",
        "\n",
        "    print(\"\\tEpoch\", epoch + 1, \"complete!\", \"\\tAverage Loss: \", overall_loss / (batch_idx*BATCH_SIZE))\n",
        "\n",
        "print(\"Finish!!\")"
      ]
    },
    {
      "cell_type": "markdown",
      "metadata": {
        "id": "hIDi-1zUfgqK"
      },
      "source": [
        "### Step 5. Generate images from test dataset"
      ]
    },
    {
      "cell_type": "code",
      "execution_count": 12,
      "metadata": {
        "id": "hxv3euupfgqK"
      },
      "outputs": [],
      "source": [
        "import matplotlib.pyplot as plt"
      ]
    },
    {
      "cell_type": "code",
      "execution_count": 13,
      "metadata": {
        "colab": {
          "base_uri": "https://localhost:8080/"
        },
        "id": "JXZNyB0zfgqK",
        "outputId": "86692ee9-c7c5-4bde-b398-3149744adae5"
      },
      "outputs": [
        {
          "output_type": "stream",
          "name": "stderr",
          "text": [
            "  0%|          | 0/157 [00:00<?, ?it/s]\n"
          ]
        }
      ],
      "source": [
        "model.eval()\n",
        "\n",
        "with torch.no_grad():\n",
        "    for batch_idx, (x, _) in enumerate(tqdm(test_loader)):\n",
        "        x = x.to(DEVICE)\n",
        "\n",
        "        _, _, x_hat = model(x)\n",
        "\n",
        "        break"
      ]
    },
    {
      "cell_type": "code",
      "execution_count": 14,
      "metadata": {
        "id": "_LrH_BRlfgqK"
      },
      "outputs": [],
      "source": [
        "def show_image(x, idx):\n",
        "    x = x.view(BATCH_SIZE, IMAGE_SIZE, IMAGE_SIZE)\n",
        "\n",
        "    fig = plt.figure()\n",
        "    plt.imshow(x[idx].cpu().numpy())"
      ]
    },
    {
      "cell_type": "markdown",
      "metadata": {
        "id": "eaSdjaY0o9EX"
      },
      "source": [
        "**Original image**"
      ]
    },
    {
      "cell_type": "code",
      "execution_count": 15,
      "metadata": {
        "colab": {
          "base_uri": "https://localhost:8080/",
          "height": 430
        },
        "id": "Plbe4qWCfgqK",
        "scrolled": true,
        "outputId": "9d3b6d98-5cf4-4107-bc99-10b300e499a9"
      },
      "outputs": [
        {
          "output_type": "display_data",
          "data": {
            "text/plain": [
              "<Figure size 640x480 with 1 Axes>"
            ],
            "image/png": "[encoded data removed]"
          },
          "metadata": {}
        }
      ],
      "source": [
        "show_image(x, idx=11)"
      ]
    },
    {
      "cell_type": "markdown",
      "metadata": {
        "id": "qM2niJ5spFIo"
      },
      "source": [
        "**Reconstruction image after going through the network**"
      ]
    },
    {
      "cell_type": "code",
      "execution_count": 16,
      "metadata": {
        "colab": {
          "base_uri": "https://localhost:8080/",
          "height": 430
        },
        "id": "w6pVZofPfgqK",
        "outputId": "d18f4232-845e-4238-e41d-255dabb82086"
      },
      "outputs": [
        {
          "output_type": "display_data",
          "data": {
            "text/plain": [
              "<Figure size 640x480 with 1 Axes>"
            ],
            "image/png": "[encoded data removed]"
          },
          "metadata": {}
        }
      ],
      "source": [
        "show_image(x_hat, idx=11)"
      ]
    },
    {
      "cell_type": "markdown",
      "source": [
        "# Print Weights and Output of each Layers information"
      ],
      "metadata": {
        "id": "YYAAx_bYXtPQ"
      }
    },
    {
      "cell_type": "code",
      "source": [
        "# Load the weights from the specified file\n",
        "model.load_state_dict(torch.load(\"/content/model_weights.pt\"))\n",
        "print(\"WEIGHTS:\")\n",
        "# Print weight information for each layer\n",
        "for name, param in model.named_parameters():\n",
        "    print(f\"Layer: {name} | Size: {param.size()}\")\n",
        "    weights = param.data\n",
        "    min_weight = torch.min(weights)\n",
        "    max_weight = torch.max(weights)\n",
        "    print(f\"Range - Min: {min_weight.item()}, Max: {max_weight.item()} \\n\")\n",
        "\n",
        "# Initialize variables to store the overall minimum and maximum values for each layer\n",
        "min_values = {}\n",
        "max_values = {}\n",
        "device = next(model.parameters()).device\n",
        "\n",
        "def hook_fn(module, input, output):\n",
        "    layer_name = module.__class__.__name__\n",
        "    min_val = torch.min(output).item()\n",
        "    max_val = torch.max(output).item()\n",
        "\n",
        "    if layer_name not in min_values:\n",
        "        min_values[layer_name] = min_val\n",
        "        max_values[layer_name] = max_val\n",
        "    else:\n",
        "        min_values[layer_name] = min(min_values[layer_name], min_val)\n",
        "        max_values[layer_name] = max(max_values[layer_name], max_val)\n",
        "\n",
        "# Register forward hooks for Linear and Conv layers\n",
        "for module in model.modules():\n",
        "    if isinstance(module, (nn.Linear, nn.Conv2d, nn.ConvTranspose2d)):\n",
        "        module.register_forward_hook(hook_fn)\n",
        "\n",
        "# Iterate over the test loader to trigger the hooks\n",
        "for image, _ in test_loader:\n",
        "    image = image.to(device)\n",
        "    with torch.no_grad():\n",
        "        _ = model(image)  # Perform a forward pass\n",
        "\n",
        "print(\"\\nOUTPUT:\")\n",
        "# Print the minimum and maximum values for each layer\n",
        "for layer_name in min_values:\n",
        "    print(f\"Layer: {layer_name} | Min: {min_values[layer_name]}, Max: {max_values[layer_name]}\")"
      ],
      "metadata": {
        "colab": {
          "base_uri": "https://localhost:8080/"
        },
        "id": "F9J56r1lXsfq",
        "outputId": "956bac2e-39d5-4c56-d6e0-363e9949d4b6"
      },
      "execution_count": 30,
      "outputs": [
        {
          "output_type": "stream",
          "name": "stdout",
          "text": [
            "WEIGHTS:\n",
            "Layer: encoder.conv1.weight | Size: torch.Size([32, 1, 3, 3])\n",
            "Range - Min: -1.9035922288894653, Max: 0.5418812036514282 \n",
            "\n",
            "Layer: encoder.conv1.bias | Size: torch.Size([32])\n",
            "Range - Min: -0.333332359790802, Max: 0.16348746418952942 \n",
            "\n",
            "Layer: encoder.conv2.weight | Size: torch.Size([64, 32, 3, 3])\n",
            "Range - Min: -0.8140051364898682, Max: 0.8200294375419617 \n",
            "\n",
            "Layer: encoder.conv2.bias | Size: torch.Size([64])\n",
            "Range - Min: -0.0926290825009346, Max: 0.11904893070459366 \n",
            "\n",
            "Layer: encoder.conv3.weight | Size: torch.Size([128, 64, 3, 3])\n",
            "Range - Min: -1.2458655834197998, Max: 0.4167528748512268 \n",
            "\n",
            "Layer: encoder.conv3.bias | Size: torch.Size([128])\n",
            "Range - Min: -0.08262688666582108, Max: 0.20946218073368073 \n",
            "\n",
            "Layer: encoder.fc_mean.weight | Size: torch.Size([2, 2048])\n",
            "Range - Min: -0.6522362232208252, Max: 0.721634566783905 \n",
            "\n",
            "Layer: encoder.fc_mean.bias | Size: torch.Size([2])\n",
            "Range - Min: -0.03896128013730049, Max: 0.0006666849949397147 \n",
            "\n",
            "Layer: encoder.fc_log_var.weight | Size: torch.Size([2, 2048])\n",
            "Range - Min: -0.8084071278572083, Max: 0.5381798148155212 \n",
            "\n",
            "Layer: encoder.fc_log_var.bias | Size: torch.Size([2])\n",
            "Range - Min: -0.4906708598136902, Max: -0.45828118920326233 \n",
            "\n",
            "Layer: decoder.fc.weight | Size: torch.Size([2048, 2])\n",
            "Range - Min: -1.1325182914733887, Max: 1.0149246454238892 \n",
            "\n",
            "Layer: decoder.fc.bias | Size: torch.Size([2048])\n",
            "Range - Min: -1.0058456659317017, Max: 1.249294400215149 \n",
            "\n",
            "Layer: decoder.deconv1.weight | Size: torch.Size([128, 64, 3, 3])\n",
            "Range - Min: -0.7400577664375305, Max: 0.603794515132904 \n",
            "\n",
            "Layer: decoder.deconv1.bias | Size: torch.Size([64])\n",
            "Range - Min: -0.19019635021686554, Max: 0.12670083343982697 \n",
            "\n",
            "Layer: decoder.deconv2.weight | Size: torch.Size([64, 32, 3, 3])\n",
            "Range - Min: -1.2814171314239502, Max: 0.5635204315185547 \n",
            "\n",
            "Layer: decoder.deconv2.bias | Size: torch.Size([32])\n",
            "Range - Min: -0.20253998041152954, Max: 0.37236350774765015 \n",
            "\n",
            "Layer: decoder.deconv3.weight | Size: torch.Size([32, 1, 3, 3])\n",
            "Range - Min: -0.7214884757995605, Max: 0.8457860946655273 \n",
            "\n",
            "Layer: decoder.deconv3.bias | Size: torch.Size([1])\n",
            "Range - Min: 0.14455127716064453, Max: 0.14455127716064453 \n",
            "\n"
          ]
        },
        {
          "output_type": "stream",
          "name": "stderr",
          "text": [
            "<ipython-input-30-c5ac7153f574>:2: FutureWarning: You are using `torch.load` with `weights_only=False` (the current default value), which uses the default pickle module implicitly. It is possible to construct malicious pickle data which will execute arbitrary code during unpickling (See https://github.com/pytorch/pytorch/blob/main/SECURITY.md#untrusted-models for more details). In a future release, the default value for `weights_only` will be flipped to `True`. This limits the functions that could be executed during unpickling. Arbitrary objects will no longer be allowed to be loaded via this mode unless they are explicitly allowlisted by the user via `torch.serialization.add_safe_globals`. We recommend you start setting `weights_only=True` for any use case where you don't have full control of the loaded file. Please open an issue on GitHub for any issues related to this experimental feature.\n",
            "  model.load_state_dict(torch.load(\"/content/model_weights.pt\"))\n"
          ]
        },
        {
          "output_type": "stream",
          "name": "stdout",
          "text": [
            "\n",
            "OUTPUT:\n",
            "Layer: Conv2d | Min: -7.178086757659912, Max: 2.6956684589385986\n",
            "Layer: Linear | Min: -9.192024230957031, Max: 4.810401439666748\n",
            "Layer: ConvTranspose2d | Min: -113.92424774169922, Max: 70.95729064941406\n"
          ]
        }
      ]
    },
    {
      "cell_type": "markdown",
      "metadata": {
        "id": "v8ReLyGPfgqL"
      },
      "source": [
        "### Step 6. Generate image from noise vector"
      ]
    },
    {
      "cell_type": "markdown",
      "metadata": {
        "id": "9rPaMsBhfgqL"
      },
      "source": [
        "**Please note that this is not the correct generative process.**\n",
        "\n",
        "* Even if we don't know exact p(z|x), we can generate images from noise, since the loss function of training CVAE regulates the q(z|x) (simple and tractable posteriors) must close enough to N(0, I). If q(z|x) is close to N(0, I) \"enough\"(but not tightly close due to posterior collapse problem), N(0, I) may replace the encoder of CVAE.\n",
        "\n",
        "* To show this, I just tested with a noise vector sampled from N(0, I) similar with Generative Adversarial Network."
      ]
    },
    {
      "cell_type": "code",
      "execution_count": 17,
      "metadata": {
        "colab": {
          "base_uri": "https://localhost:8080/"
        },
        "id": "WMRrCgQZfgqL",
        "outputId": "c12758dc-2bc6-46d3-952e-73aca5fda151"
      },
      "outputs": [
        {
          "output_type": "stream",
          "name": "stdout",
          "text": [
            "torch.Size([64, 2])\n"
          ]
        }
      ],
      "source": [
        "with torch.no_grad():\n",
        "    noise = torch.randn(BATCH_SIZE, EMBEDDING_DIM).to(DEVICE)\n",
        "    print(noise.shape)\n",
        "    generated_images = decoder(noise)"
      ]
    },
    {
      "cell_type": "code",
      "execution_count": 18,
      "metadata": {
        "id": "Xa-TAe2PfgqL"
      },
      "outputs": [],
      "source": [
        "save_image(generated_images.view(BATCH_SIZE, 1, IMAGE_SIZE, IMAGE_SIZE), 'generated_sample.png')"
      ]
    },
    {
      "cell_type": "code",
      "execution_count": null,
      "metadata": {
        "id": "o4Pv4gLdfgqL"
      },
      "outputs": [],
      "source": [
        "show_image(generated_images, idx=0)"
      ]
    },
    {
      "cell_type": "code",
      "execution_count": null,
      "metadata": {
        "id": "ry4uYemWfgqL"
      },
      "outputs": [],
      "source": [
        "show_image(generated_images, idx=1)"
      ]
    },
    {
      "cell_type": "code",
      "execution_count": null,
      "metadata": {
        "id": "JsMQ08o9fgqL"
      },
      "outputs": [],
      "source": [
        "show_image(generated_images, idx=10)"
      ]
    },
    {
      "cell_type": "code",
      "execution_count": null,
      "metadata": {
        "id": "NFq1TFu8fgqL"
      },
      "outputs": [],
      "source": [
        "show_image(generated_images, idx=20)"
      ]
    },
    {
      "cell_type": "code",
      "execution_count": null,
      "metadata": {
        "id": "nRB_u-MyfgqM"
      },
      "outputs": [],
      "source": [
        "show_image(generated_images, idx=50)"
      ]
    },
    {
      "cell_type": "code",
      "execution_count": null,
      "metadata": {
        "id": "QbmJRCx5fgqM"
      },
      "outputs": [],
      "source": [
        "show_image(generated_images, idx=62)"
      ]
    }
  ],
  "metadata": {
    "colab": {
      "provenance": []
    },
    "kernelspec": {
      "display_name": "Python 3",
      "language": "python",
      "name": "python3"
    },
    "language_info": {
      "codemirror_mode": {
        "name": "ipython",
        "version": 3
      },
      "file_extension": ".py",
      "mimetype": "text/x-python",
      "name": "python",
      "nbconvert_exporter": "python",
      "pygments_lexer": "ipython3",
      "version": "3.7.9"
    }
  },
  "nbformat": 4,
  "nbformat_minor": 0
}